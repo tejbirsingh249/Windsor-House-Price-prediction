{
 "cells": [
  {
   "cell_type": "code",
   "execution_count": 19,
   "id": "eafe2d5b",
   "metadata": {},
   "outputs": [],
   "source": [
    "\n",
    "import pandas as pd\n",
    "import json\n",
    "import csv\n",
    "import pymongo\n",
    "import pprint\n",
    "import sys, getopt\n",
    "from bson.objectid import ObjectId\n",
    "from pymongo import MongoClient\n",
    "import pickle\n",
    "import re"
   ]
  },
  {
   "cell_type": "code",
   "execution_count": 20,
   "id": "424e37ee",
   "metadata": {},
   "outputs": [
    {
     "name": "stderr",
     "output_type": "stream",
     "text": [
      "/Users/simrandeepsingh/opt/anaconda3/lib/python3.9/site-packages/pymongo/compression_support.py:59: UserWarning: Unsupported compressor: disabled\n",
      "  warnings.warn(\"Unsupported compressor: %s\" % (compressor,))\n",
      "/Users/simrandeepsingh/opt/anaconda3/lib/python3.9/site-packages/pymongo/common.py:797: UserWarning: Unknown option gssapiservicename\n",
      "  warnings.warn(str(exc))\n"
     ]
    }
   ],
   "source": [
    "connection = pymongo.MongoClient(\"mongodb://127.0.0.1:27017/?compressors=disabled&gssapiServiceName=mongodb\")\n",
    "mydb= connection.HousePrice\n",
    "mycol = mydb[\"HouseData\"]\n",
    "mydb.segment.drop()"
   ]
  },
  {
   "cell_type": "code",
   "execution_count": 21,
   "id": "dddb5da6",
   "metadata": {},
   "outputs": [],
   "source": [
    "with open('Windsor_house_data_train.csv', 'r') as read_obj:\n",
    "    # pass the file object to reader() to get the reader object\n",
    "    csv_reader = csv.DictReader(read_obj)\n",
    "    # Pass reader object to list() to get a list of lists\n",
    "    mylist = list(csv_reader)\n",
    "    #print(list_of_rows)\n",
    "    x = mycol.insert_many(mylist)\n",
    "\n",
    "    #print list of the _id values of the inserted documents:\n",
    "    \n",
    "\n",
    "  "
   ]
  },
  {
   "cell_type": "code",
   "execution_count": 22,
   "id": "6f456a30",
   "metadata": {},
   "outputs": [
    {
     "name": "stdout",
     "output_type": "stream",
     "text": [
      "<pymongo.cursor.Cursor object at 0x7ff5b9f4c790>\n"
     ]
    }
   ],
   "source": [
    "pprint.pprint(mycol.find())"
   ]
  },
  {
   "cell_type": "code",
   "execution_count": 24,
   "id": "9c55e4b3",
   "metadata": {},
   "outputs": [
    {
     "data": {
      "text/plain": [
       "<pymongo.results.UpdateResult at 0x7ff5b9d0fa00>"
      ]
     },
     "execution_count": 24,
     "metadata": {},
     "output_type": "execute_result"
    }
   ],
   "source": [
    "mycol.update_many({}, {'$unset': {'grade':1, 'id':1, 'date':1, 'sqft_above':1, 'sqft_basement':1, 'sqft_living15':1, 'sqft_lot15':1, 'view':1}})"
   ]
  },
  {
   "cell_type": "code",
   "execution_count": 25,
   "id": "961fa95e",
   "metadata": {},
   "outputs": [
    {
     "name": "stdout",
     "output_type": "stream",
     "text": [
      "{'_id': ObjectId('62e0a12d4da9db1f09a268de'),\n",
      " 'bathrooms': '2.25',\n",
      " 'bedrooms': '4',\n",
      " 'condition': '4',\n",
      " 'date': '20141006T000000',\n",
      " 'floors': '2',\n",
      " 'id': '2591820310',\n",
      " 'lat': '47.4388',\n",
      " 'long': '-122.162',\n",
      " 'price': '365',\n",
      " 'sqft_above': '2070',\n",
      " 'sqft_basement': '0',\n",
      " 'sqft_living': '2070',\n",
      " 'sqft_living15': '2390',\n",
      " 'sqft_lot': '8893',\n",
      " 'sqft_lot15': '7700',\n",
      " 'view': '0',\n",
      " 'waterfront': '0',\n",
      " 'yr_built': '1986',\n",
      " 'yr_renovated': '0',\n",
      " 'zipcode': 'N8X 2E2'}\n"
     ]
    }
   ],
   "source": [
    "pprint.pprint(mycol.find_one())"
   ]
  }
 ],
 "metadata": {
  "kernelspec": {
   "display_name": "Python 3.9.12 ('base')",
   "language": "python",
   "name": "python3"
  },
  "language_info": {
   "codemirror_mode": {
    "name": "ipython",
    "version": 3
   },
   "file_extension": ".py",
   "mimetype": "text/x-python",
   "name": "python",
   "nbconvert_exporter": "python",
   "pygments_lexer": "ipython3",
   "version": "3.9.12"
  },
  "vscode": {
   "interpreter": {
    "hash": "5a90729ae71814211996906198ceb6b77dd1c2563776e9a662446cadec601fdf"
   }
  }
 },
 "nbformat": 4,
 "nbformat_minor": 5
}
