{
 "cells": [
  {
   "cell_type": "code",
   "execution_count": 121,
   "id": "876adc69",
   "metadata": {},
   "outputs": [],
   "source": [
    "import pandas as pd\n",
    "import numpy as np \n",
    "import seaborn as sns\n",
    "import plotly.express as px\n",
    "import matplotlib.pyplot as plt\n",
    "%matplotlib inline\n",
    "import pickle\n",
    "from sklearn.model_selection import train_test_split\n",
    "from sklearn.preprocessing import StandardScaler\n",
    "from sklearn.linear_model import LinearRegression\n",
    "pd.options.display.max_columns= 500\n",
    "pd.options.display.max_rows= 500"
   ]
  },
  {
   "cell_type": "code",
   "execution_count": 122,
   "id": "392933f8",
   "metadata": {},
   "outputs": [
    {
     "name": "stderr",
     "output_type": "stream",
     "text": [
      "/Users/simrandeepsingh/opt/anaconda3/lib/python3.9/site-packages/pymongo/compression_support.py:59: UserWarning: Unsupported compressor: disabled\n",
      "  warnings.warn(\"Unsupported compressor: %s\" % (compressor,))\n",
      "/Users/simrandeepsingh/opt/anaconda3/lib/python3.9/site-packages/pymongo/common.py:797: UserWarning: Unknown option gssapiservicename\n",
      "  warnings.warn(str(exc))\n"
     ]
    },
    {
     "name": "stdout",
     "output_type": "stream",
     "text": [
      "<pymongo.cursor.Cursor object at 0x7fe2fa63fbb0>\n",
      "{'_id': ObjectId('62e0a12d4da9db1f09a268de'),\n",
      " 'bathrooms': '2.25',\n",
      " 'bedrooms': '4',\n",
      " 'condition': '4',\n",
      " 'floors': '2',\n",
      " 'lat': '47.4388',\n",
      " 'long': '-122.162',\n",
      " 'price': '365',\n",
      " 'sqft_living': '2070',\n",
      " 'sqft_lot': '8893',\n",
      " 'waterfront': '0',\n",
      " 'yr_built': '1986',\n",
      " 'yr_renovated': '0',\n",
      " 'zipcode': 'N8X 2E2'}\n"
     ]
    }
   ],
   "source": [
    "%run Final_cleaned_Script.ipynb \n",
    "\n",
    "df=pd.DataFrame(list(mycol.find()))"
   ]
  },
  {
   "cell_type": "code",
   "execution_count": 123,
   "id": "c0b85158",
   "metadata": {},
   "outputs": [
    {
     "data": {
      "text/html": [
       "<div>\n",
       "<style scoped>\n",
       "    .dataframe tbody tr th:only-of-type {\n",
       "        vertical-align: middle;\n",
       "    }\n",
       "\n",
       "    .dataframe tbody tr th {\n",
       "        vertical-align: top;\n",
       "    }\n",
       "\n",
       "    .dataframe thead th {\n",
       "        text-align: right;\n",
       "    }\n",
       "</style>\n",
       "<table border=\"1\" class=\"dataframe\">\n",
       "  <thead>\n",
       "    <tr style=\"text-align: right;\">\n",
       "      <th></th>\n",
       "      <th>_id</th>\n",
       "      <th>price</th>\n",
       "      <th>bedrooms</th>\n",
       "      <th>bathrooms</th>\n",
       "      <th>sqft_living</th>\n",
       "      <th>sqft_lot</th>\n",
       "      <th>floors</th>\n",
       "      <th>waterfront</th>\n",
       "      <th>condition</th>\n",
       "      <th>yr_built</th>\n",
       "      <th>yr_renovated</th>\n",
       "      <th>zipcode</th>\n",
       "      <th>lat</th>\n",
       "      <th>long</th>\n",
       "    </tr>\n",
       "  </thead>\n",
       "  <tbody>\n",
       "    <tr>\n",
       "      <th>0</th>\n",
       "      <td>62e0a12d4da9db1f09a268de</td>\n",
       "      <td>365</td>\n",
       "      <td>4</td>\n",
       "      <td>2.25</td>\n",
       "      <td>2070</td>\n",
       "      <td>8893</td>\n",
       "      <td>2</td>\n",
       "      <td>0</td>\n",
       "      <td>4</td>\n",
       "      <td>1986</td>\n",
       "      <td>0</td>\n",
       "      <td>N8X 2E2</td>\n",
       "      <td>47.4388</td>\n",
       "      <td>-122.162</td>\n",
       "    </tr>\n",
       "    <tr>\n",
       "      <th>1</th>\n",
       "      <td>62e0a12d4da9db1f09a268df</td>\n",
       "      <td>865</td>\n",
       "      <td>5</td>\n",
       "      <td>3</td>\n",
       "      <td>2900</td>\n",
       "      <td>6730</td>\n",
       "      <td>1</td>\n",
       "      <td>0</td>\n",
       "      <td>5</td>\n",
       "      <td>1977</td>\n",
       "      <td>0</td>\n",
       "      <td>N9C 3C7</td>\n",
       "      <td>47.6784</td>\n",
       "      <td>-122.285</td>\n",
       "    </tr>\n",
       "    <tr>\n",
       "      <th>2</th>\n",
       "      <td>62e0a12d4da9db1f09a268e0</td>\n",
       "      <td>1038</td>\n",
       "      <td>4</td>\n",
       "      <td>2.5</td>\n",
       "      <td>3770</td>\n",
       "      <td>10893</td>\n",
       "      <td>2</td>\n",
       "      <td>0</td>\n",
       "      <td>3</td>\n",
       "      <td>1997</td>\n",
       "      <td>0</td>\n",
       "      <td>N9A 3C5</td>\n",
       "      <td>47.5646</td>\n",
       "      <td>-122.129</td>\n",
       "    </tr>\n",
       "    <tr>\n",
       "      <th>3</th>\n",
       "      <td>62e0a12d4da9db1f09a268e1</td>\n",
       "      <td>1490</td>\n",
       "      <td>3</td>\n",
       "      <td>3.5</td>\n",
       "      <td>4560</td>\n",
       "      <td>14608</td>\n",
       "      <td>2</td>\n",
       "      <td>0</td>\n",
       "      <td>3</td>\n",
       "      <td>1990</td>\n",
       "      <td>0</td>\n",
       "      <td>N8W 5L9</td>\n",
       "      <td>47.6995</td>\n",
       "      <td>-122.228</td>\n",
       "    </tr>\n",
       "    <tr>\n",
       "      <th>4</th>\n",
       "      <td>62e0a12d4da9db1f09a268e2</td>\n",
       "      <td>711</td>\n",
       "      <td>3</td>\n",
       "      <td>2.5</td>\n",
       "      <td>2550</td>\n",
       "      <td>5376</td>\n",
       "      <td>2</td>\n",
       "      <td>0</td>\n",
       "      <td>3</td>\n",
       "      <td>2004</td>\n",
       "      <td>0</td>\n",
       "      <td>N8X 5A7</td>\n",
       "      <td>47.6647</td>\n",
       "      <td>-122.083</td>\n",
       "    </tr>\n",
       "  </tbody>\n",
       "</table>\n",
       "</div>"
      ],
      "text/plain": [
       "                        _id price bedrooms bathrooms sqft_living sqft_lot  \\\n",
       "0  62e0a12d4da9db1f09a268de   365        4      2.25        2070     8893   \n",
       "1  62e0a12d4da9db1f09a268df   865        5         3        2900     6730   \n",
       "2  62e0a12d4da9db1f09a268e0  1038        4       2.5        3770    10893   \n",
       "3  62e0a12d4da9db1f09a268e1  1490        3       3.5        4560    14608   \n",
       "4  62e0a12d4da9db1f09a268e2   711        3       2.5        2550     5376   \n",
       "\n",
       "  floors waterfront condition yr_built yr_renovated  zipcode      lat  \\\n",
       "0      2          0         4     1986            0  N8X 2E2  47.4388   \n",
       "1      1          0         5     1977            0  N9C 3C7  47.6784   \n",
       "2      2          0         3     1997            0  N9A 3C5  47.5646   \n",
       "3      2          0         3     1990            0  N8W 5L9  47.6995   \n",
       "4      2          0         3     2004            0  N8X 5A7  47.6647   \n",
       "\n",
       "       long  \n",
       "0  -122.162  \n",
       "1  -122.285  \n",
       "2  -122.129  \n",
       "3  -122.228  \n",
       "4  -122.083  "
      ]
     },
     "execution_count": 123,
     "metadata": {},
     "output_type": "execute_result"
    }
   ],
   "source": [
    "df.head()"
   ]
  },
  {
   "cell_type": "code",
   "execution_count": 124,
   "id": "5acbac36",
   "metadata": {},
   "outputs": [
    {
     "data": {
      "text/plain": [
       "Index(['_id', 'price', 'bedrooms', 'bathrooms', 'sqft_living', 'sqft_lot',\n",
       "       'floors', 'waterfront', 'condition', 'yr_built', 'yr_renovated',\n",
       "       'zipcode', 'lat', 'long'],\n",
       "      dtype='object')"
      ]
     },
     "execution_count": 124,
     "metadata": {},
     "output_type": "execute_result"
    }
   ],
   "source": [
    "df.columns"
   ]
  },
  {
   "cell_type": "code",
   "execution_count": 125,
   "id": "b75227de",
   "metadata": {},
   "outputs": [
    {
     "name": "stdout",
     "output_type": "stream",
     "text": [
      "shape of x= (138320, 9)\n",
      "shape of y= (138320,)\n"
     ]
    }
   ],
   "source": [
    "y= df['price']\n",
    "x=df.iloc[:, 2:11]\n",
    "\n",
    "print('shape of x=',x.shape)\n",
    "print('shape of y=',y.shape)"
   ]
  },
  {
   "cell_type": "code",
   "execution_count": 126,
   "id": "e15acdee",
   "metadata": {},
   "outputs": [
    {
     "data": {
      "text/html": [
       "<div>\n",
       "<style scoped>\n",
       "    .dataframe tbody tr th:only-of-type {\n",
       "        vertical-align: middle;\n",
       "    }\n",
       "\n",
       "    .dataframe tbody tr th {\n",
       "        vertical-align: top;\n",
       "    }\n",
       "\n",
       "    .dataframe thead th {\n",
       "        text-align: right;\n",
       "    }\n",
       "</style>\n",
       "<table border=\"1\" class=\"dataframe\">\n",
       "  <thead>\n",
       "    <tr style=\"text-align: right;\">\n",
       "      <th></th>\n",
       "      <th>bedrooms</th>\n",
       "      <th>bathrooms</th>\n",
       "      <th>sqft_living</th>\n",
       "      <th>sqft_lot</th>\n",
       "      <th>floors</th>\n",
       "      <th>waterfront</th>\n",
       "      <th>condition</th>\n",
       "      <th>yr_built</th>\n",
       "      <th>yr_renovated</th>\n",
       "    </tr>\n",
       "  </thead>\n",
       "  <tbody>\n",
       "    <tr>\n",
       "      <th>0</th>\n",
       "      <td>4</td>\n",
       "      <td>2.25</td>\n",
       "      <td>2070</td>\n",
       "      <td>8893</td>\n",
       "      <td>2</td>\n",
       "      <td>0</td>\n",
       "      <td>4</td>\n",
       "      <td>1986</td>\n",
       "      <td>0</td>\n",
       "    </tr>\n",
       "    <tr>\n",
       "      <th>1</th>\n",
       "      <td>5</td>\n",
       "      <td>3</td>\n",
       "      <td>2900</td>\n",
       "      <td>6730</td>\n",
       "      <td>1</td>\n",
       "      <td>0</td>\n",
       "      <td>5</td>\n",
       "      <td>1977</td>\n",
       "      <td>0</td>\n",
       "    </tr>\n",
       "    <tr>\n",
       "      <th>2</th>\n",
       "      <td>4</td>\n",
       "      <td>2.5</td>\n",
       "      <td>3770</td>\n",
       "      <td>10893</td>\n",
       "      <td>2</td>\n",
       "      <td>0</td>\n",
       "      <td>3</td>\n",
       "      <td>1997</td>\n",
       "      <td>0</td>\n",
       "    </tr>\n",
       "    <tr>\n",
       "      <th>3</th>\n",
       "      <td>3</td>\n",
       "      <td>3.5</td>\n",
       "      <td>4560</td>\n",
       "      <td>14608</td>\n",
       "      <td>2</td>\n",
       "      <td>0</td>\n",
       "      <td>3</td>\n",
       "      <td>1990</td>\n",
       "      <td>0</td>\n",
       "    </tr>\n",
       "    <tr>\n",
       "      <th>4</th>\n",
       "      <td>3</td>\n",
       "      <td>2.5</td>\n",
       "      <td>2550</td>\n",
       "      <td>5376</td>\n",
       "      <td>2</td>\n",
       "      <td>0</td>\n",
       "      <td>3</td>\n",
       "      <td>2004</td>\n",
       "      <td>0</td>\n",
       "    </tr>\n",
       "  </tbody>\n",
       "</table>\n",
       "</div>"
      ],
      "text/plain": [
       "  bedrooms bathrooms sqft_living sqft_lot floors waterfront condition  \\\n",
       "0        4      2.25        2070     8893      2          0         4   \n",
       "1        5         3        2900     6730      1          0         5   \n",
       "2        4       2.5        3770    10893      2          0         3   \n",
       "3        3       3.5        4560    14608      2          0         3   \n",
       "4        3       2.5        2550     5376      2          0         3   \n",
       "\n",
       "  yr_built yr_renovated  \n",
       "0     1986            0  \n",
       "1     1977            0  \n",
       "2     1997            0  \n",
       "3     1990            0  \n",
       "4     2004            0  "
      ]
     },
     "execution_count": 126,
     "metadata": {},
     "output_type": "execute_result"
    }
   ],
   "source": [
    "x.head()"
   ]
  },
  {
   "cell_type": "code",
   "execution_count": 127,
   "id": "6e676f07",
   "metadata": {},
   "outputs": [
    {
     "data": {
      "text/plain": [
       "0     365\n",
       "1     865\n",
       "2    1038\n",
       "3    1490\n",
       "4     711\n",
       "Name: price, dtype: object"
      ]
     },
     "execution_count": 127,
     "metadata": {},
     "output_type": "execute_result"
    }
   ],
   "source": [
    "y.head()"
   ]
  },
  {
   "cell_type": "code",
   "execution_count": 128,
   "id": "e4213d22",
   "metadata": {},
   "outputs": [
    {
     "name": "stdout",
     "output_type": "stream",
     "text": [
      "shape of x_train =  (110656, 9)\n",
      "shape of y_train =  (110656,)\n",
      "shape of x_test =  (27664, 9)\n",
      "shape of y_test =  (27664,)\n"
     ]
    }
   ],
   "source": [
    "x_train, x_test, y_train, y_test = train_test_split(x, y, test_size=0.2, random_state=51)\n",
    "\n",
    "print('shape of x_train = ', x_train.shape)\n",
    "print('shape of y_train = ', y_train.shape)\n",
    "print('shape of x_test = ', x_test.shape)\n",
    "print('shape of y_test = ', y_test.shape)"
   ]
  },
  {
   "cell_type": "code",
   "execution_count": 129,
   "id": "5c0ca1f7",
   "metadata": {},
   "outputs": [],
   "source": [
    "sc = StandardScaler()\n",
    "sc.fit(x_train)\n",
    "x_train = sc.transform(x_train)\n",
    "x_test = sc.transform(x_test)"
   ]
  },
  {
   "cell_type": "code",
   "execution_count": 130,
   "id": "f70ddec4",
   "metadata": {},
   "outputs": [
    {
     "data": {
      "text/plain": [
       "array([[-0.40074569,  0.50113733,  0.37520852, ..., -0.62608425,\n",
       "         1.23360303, -0.21095742],\n",
       "       [ 0.67363142, -0.47112321,  0.22310824, ...,  2.44947195,\n",
       "        -0.06124635, -0.21095742],\n",
       "       [-0.40074569,  0.50113733, -0.15714247, ...,  0.91169385,\n",
       "         0.99507814, -0.21095742],\n",
       "       ...,\n",
       "       [-0.40074569,  0.50113733, -0.51566457, ...,  0.91169385,\n",
       "         0.75655326, -0.21095742],\n",
       "       [-0.40074569,  0.50113733,  0.44039436, ..., -0.62608425,\n",
       "         0.82470322, -0.21095742],\n",
       "       [-0.40074569, -1.44338376, -0.96110112, ...,  0.91169385,\n",
       "        -0.06124635, -0.21095742]])"
      ]
     },
     "execution_count": 130,
     "metadata": {},
     "output_type": "execute_result"
    }
   ],
   "source": [
    "x_train"
   ]
  },
  {
   "cell_type": "code",
   "execution_count": 131,
   "id": "419923cd",
   "metadata": {},
   "outputs": [
    {
     "data": {
      "text/plain": [
       "array([[ 0.67363142,  0.50113733,  0.54903742, ..., -0.62608425,\n",
       "         1.13137808, -0.21095742],\n",
       "       [-1.4751228 , -1.44338376, -1.02628696, ..., -0.62608425,\n",
       "        -0.9812709 , -0.21095742],\n",
       "       [ 0.67363142,  0.82522418,  0.22310824, ..., -0.62608425,\n",
       "         1.09730309, -0.21095742],\n",
       "       ...,\n",
       "       [ 1.74800853, -0.79521006,  0.47298728, ...,  0.91169385,\n",
       "        -1.45832067, -0.21095742],\n",
       "       [ 0.67363142,  0.17705048,  0.11446518, ..., -0.62608425,\n",
       "         0.24542851, -0.21095742],\n",
       "       [ 0.67363142,  0.50113733,  1.05965981, ..., -0.62608425,\n",
       "         1.13137808, -0.21095742]])"
      ]
     },
     "execution_count": 131,
     "metadata": {},
     "output_type": "execute_result"
    }
   ],
   "source": [
    "x_test"
   ]
  },
  {
   "cell_type": "code",
   "execution_count": 132,
   "id": "6c5d7890",
   "metadata": {},
   "outputs": [
    {
     "data": {
      "text/plain": [
       "LinearRegression()"
      ]
     },
     "execution_count": 132,
     "metadata": {},
     "output_type": "execute_result"
    }
   ],
   "source": [
    "lr = LinearRegression()\n",
    "\n",
    "lr.fit(x_train, y_train)"
   ]
  },
  {
   "cell_type": "code",
   "execution_count": 133,
   "id": "e56138fb",
   "metadata": {},
   "outputs": [
    {
     "data": {
      "text/plain": [
       "array([-57.6369146 ,  48.09409561, 271.9900611 , -12.10012312,\n",
       "        28.71134809,  64.97272851,  12.68582256, -88.02080818,\n",
       "         2.85895662])"
      ]
     },
     "execution_count": 133,
     "metadata": {},
     "output_type": "execute_result"
    }
   ],
   "source": [
    "lr.coef_"
   ]
  },
  {
   "cell_type": "code",
   "execution_count": 134,
   "id": "d2e3f722",
   "metadata": {},
   "outputs": [
    {
     "data": {
      "text/plain": [
       "541.2860707598321"
      ]
     },
     "execution_count": 134,
     "metadata": {},
     "output_type": "execute_result"
    }
   ],
   "source": [
    "lr.intercept_"
   ]
  },
  {
   "cell_type": "code",
   "execution_count": 135,
   "id": "c75aec4d",
   "metadata": {},
   "outputs": [
    {
     "data": {
      "text/plain": [
       "array([ 0.67363142,  0.50113733,  0.54903742, -0.25860219,  0.94401623,\n",
       "       -0.08876151, -0.62608425,  1.13137808, -0.21095742])"
      ]
     },
     "execution_count": 135,
     "metadata": {},
     "output_type": "execute_result"
    }
   ],
   "source": [
    "x_test[0, :]"
   ]
  },
  {
   "cell_type": "code",
   "execution_count": 136,
   "id": "fc297656",
   "metadata": {},
   "outputs": [
    {
     "data": {
      "text/plain": [
       "array([592.23019761])"
      ]
     },
     "execution_count": 136,
     "metadata": {},
     "output_type": "execute_result"
    }
   ],
   "source": [
    "lr.predict([x_test[0, :]])"
   ]
  },
  {
   "cell_type": "code",
   "execution_count": 137,
   "id": "bd708281",
   "metadata": {},
   "outputs": [
    {
     "data": {
      "text/plain": [
       "array([592.23019761, 325.07014434, 521.94683396, ..., 667.70433419,\n",
       "       535.10249477, 730.43294598])"
      ]
     },
     "execution_count": 137,
     "metadata": {},
     "output_type": "execute_result"
    }
   ],
   "source": [
    "lr.predict(x_test)"
   ]
  },
  {
   "cell_type": "code",
   "execution_count": 138,
   "id": "637730f9",
   "metadata": {
    "scrolled": true
   },
   "outputs": [
    {
     "data": {
      "text/plain": [
       "31438     700\n",
       "32051     153\n",
       "57164     430\n",
       "49695     483\n",
       "135454    425\n",
       "         ... \n",
       "76395     385\n",
       "65259     548\n",
       "76271     250\n",
       "110226    320\n",
       "29957     775\n",
       "Name: price, Length: 27664, dtype: object"
      ]
     },
     "execution_count": 138,
     "metadata": {},
     "output_type": "execute_result"
    }
   ],
   "source": [
    "y_test"
   ]
  },
  {
   "cell_type": "code",
   "execution_count": 139,
   "id": "9ccdf880",
   "metadata": {},
   "outputs": [
    {
     "data": {
      "text/plain": [
       "0.5901608855183513"
      ]
     },
     "execution_count": 139,
     "metadata": {},
     "output_type": "execute_result"
    }
   ],
   "source": [
    "lr.score(x_test, y_test)"
   ]
  },
  {
   "cell_type": "code",
   "execution_count": 140,
   "id": "f806ad93",
   "metadata": {},
   "outputs": [],
   "source": [
    "pickle.dump(lr, open('predictHousePrice.pkl', 'wb'))"
   ]
  },
  {
   "cell_type": "code",
   "execution_count": 141,
   "id": "9faffab1",
   "metadata": {},
   "outputs": [],
   "source": [
    "pickle.dump(sc, open('scaler.pkl', 'wb'))"
   ]
  },
  {
   "cell_type": "code",
   "execution_count": 142,
   "id": "2ceeda6b",
   "metadata": {},
   "outputs": [
    {
     "data": {
      "image/png": "[encoded data removed]",
      "text/plain": [
       "<Figure size 1008x288 with 2 Axes>"
      ]
     },
     "metadata": {
      "needs_background": "light"
     },
     "output_type": "display_data"
    }
   ],
   "source": [
    "ddf=pd.read_csv(\"/Users/simrandeepsingh/ADT/Windsor_house_data_train.csv\")\n",
    "\n",
    "#graph for basement availability\n",
    "basement=ddf[(ddf[\"sqft_basement\"] >0)]\n",
    "basement_mean= basement.price.mean()\n",
    "no_basement = ddf[(ddf[\"sqft_basement\"] ==0)]\n",
    "no_basement_mean= no_basement.price.mean()\n",
    "\n",
    "#graph values based on Renovation\n",
    "renovated=ddf[(ddf[\"yr_renovated\"] >0)]\n",
    "renovated_mean= renovated.price.mean()\n",
    "no_renovated = ddf[(ddf[\"yr_renovated\"] ==0)]\n",
    "no_renovated_mean= no_renovated.price.mean()\n",
    "\n",
    "#putting plot labels\n",
    "label_basement= [\"Basement\", \"No Basement\"]\n",
    "values_basement= [basement_mean, no_basement_mean]\n",
    "label_renovation= [\"Renovated\", \"No Renovation\"]\n",
    "values_renovation= [renovated_mean, no_renovated_mean]\n",
    "\n",
    "fig, ax=plt.subplots(1,2, figsize=(14,4))\n",
    "sns.barplot(ax=ax[0], x=label_basement, y=values_basement, palette=\"Blues_r\")\n",
    "sns.barplot(ax=ax[1], x=label_renovation, y=values_renovation, palette=\"Blues_r\")\n",
    "plt.suptitle(\"Affect of Basement and on Property Value\", size=16, y=1.02)\n",
    "plt.show();\n"
   ]
  },
  {
   "cell_type": "code",
   "execution_count": 143,
   "id": "12b03488",
   "metadata": {},
   "outputs": [
    {
     "data": {
      "image/png": "[encoded data removed]",
      "text/plain": [
       "<Figure size 576x288 with 3 Axes>"
      ]
     },
     "metadata": {
      "needs_background": "light"
     },
     "output_type": "display_data"
    }
   ],
   "source": [
    "# conditon calculation\n",
    "condition_mean= ddf.groupby(\"condition\")[\"price\"].mean()\n",
    "condition_median= ddf.groupby(\"condition\")[\"price\"].median()\n",
    "condition_score= np.arange(1,6)\n",
    "meanPrice= ddf.price.mean()\n",
    "\n",
    "# set subplot data\n",
    "fig, ax=plt.subplots(figsize=(8,4))\n",
    "ax2= ax.twinx()\n",
    "ax3= ax.twinx()\n",
    "width= 0.5\n",
    "\n",
    "#bar plots\n",
    "ax.bar(x= condition_score, height=condition_median, width=width, label= \"Median Price\",\n",
    "             color=\"midnightblue\", alpha=0.8)\n",
    "ax2.bar(x= condition_score, height=condition_mean, width=width, label= \"Mean Price\", \n",
    "             color=\"royalblue\", alpha=0.8)\n",
    "\n",
    "#horizontal line for mean price\n",
    "ax3.hlines(meanPrice, .7, 5.3, colors=\"red\", label=\"Average Price\")\n",
    "\n",
    "#set ylimit to the same scale and display only 1\n",
    "ax.set_ylim(0,1.2*condition_mean.max())\n",
    "ax2.set_ylim(0,1.2*condition_mean.max())\n",
    "ax3.set_ylim(0,1.2*condition_mean.max())\n",
    "ax2.yaxis.set_visible(False) #hide the 2nd axis\n",
    "ax3.yaxis.set_visible(False)\n",
    "\n",
    "#set legend positions\n",
    "ax.legend(bbox_to_anchor=(0,0,1,1), loc=\"upper left\")\n",
    "ax2.legend(bbox_to_anchor=(0,-.1,1,1), loc=\"upper left\")\n",
    "ax3.legend(bbox_to_anchor=(0,0,1,1), loc=\"upper right\")\n",
    "\n",
    "#prettify graph\n",
    "ax.set_ylabel(\"Average Prices ($)\", size=14)\n",
    "ax.set_xlabel(\"Condition Score\", size=14)\n",
    "plt.title(\"Average Property Value per Condition\", size=16, y=1.08)\n",
    "\n",
    "#uncomment line below to export image\n",
    "# plt.savefig(\"images/condition_value.png\",bbox_inches = \"tight\")\n",
    "plt.legend()\n",
    "plt.show();"
   ]
  },
  {
   "cell_type": "code",
   "execution_count": 144,
   "id": "974c67e7",
   "metadata": {},
   "outputs": [
    {
     "data": {
      "text/html": [
       "<div>\n",
       "<style scoped>\n",
       "    .dataframe tbody tr th:only-of-type {\n",
       "        vertical-align: middle;\n",
       "    }\n",
       "\n",
       "    .dataframe tbody tr th {\n",
       "        vertical-align: top;\n",
       "    }\n",
       "\n",
       "    .dataframe thead th {\n",
       "        text-align: right;\n",
       "    }\n",
       "</style>\n",
       "<table border=\"1\" class=\"dataframe\">\n",
       "  <thead>\n",
       "    <tr style=\"text-align: right;\">\n",
       "      <th></th>\n",
       "      <th>_id</th>\n",
       "      <th>price</th>\n",
       "      <th>bedrooms</th>\n",
       "      <th>bathrooms</th>\n",
       "      <th>sqft_living</th>\n",
       "      <th>sqft_lot</th>\n",
       "      <th>floors</th>\n",
       "      <th>waterfront</th>\n",
       "      <th>condition</th>\n",
       "      <th>yr_built</th>\n",
       "      <th>yr_renovated</th>\n",
       "      <th>zipcode</th>\n",
       "      <th>lat</th>\n",
       "      <th>long</th>\n",
       "    </tr>\n",
       "  </thead>\n",
       "  <tbody>\n",
       "    <tr>\n",
       "      <th>count</th>\n",
       "      <td>138320</td>\n",
       "      <td>138320</td>\n",
       "      <td>138320</td>\n",
       "      <td>138320</td>\n",
       "      <td>138320</td>\n",
       "      <td>138320</td>\n",
       "      <td>138320</td>\n",
       "      <td>138320</td>\n",
       "      <td>138320</td>\n",
       "      <td>138320</td>\n",
       "      <td>138320</td>\n",
       "      <td>138320</td>\n",
       "      <td>138320</td>\n",
       "      <td>138320</td>\n",
       "    </tr>\n",
       "    <tr>\n",
       "      <th>unique</th>\n",
       "      <td>138320</td>\n",
       "      <td>3534</td>\n",
       "      <td>13</td>\n",
       "      <td>30</td>\n",
       "      <td>947</td>\n",
       "      <td>8428</td>\n",
       "      <td>6</td>\n",
       "      <td>2</td>\n",
       "      <td>5</td>\n",
       "      <td>116</td>\n",
       "      <td>69</td>\n",
       "      <td>3531</td>\n",
       "      <td>4837</td>\n",
       "      <td>733</td>\n",
       "    </tr>\n",
       "    <tr>\n",
       "      <th>top</th>\n",
       "      <td>62e0a12d4da9db1f09a268de</td>\n",
       "      <td>350</td>\n",
       "      <td>3</td>\n",
       "      <td>2.5</td>\n",
       "      <td>1800</td>\n",
       "      <td>5000</td>\n",
       "      <td>1</td>\n",
       "      <td>0</td>\n",
       "      <td>3</td>\n",
       "      <td>2014</td>\n",
       "      <td>0</td>\n",
       "      <td>N9A 6J3</td>\n",
       "      <td>47.6821</td>\n",
       "      <td>-122.3</td>\n",
       "    </tr>\n",
       "    <tr>\n",
       "      <th>freq</th>\n",
       "      <td>1</td>\n",
       "      <td>1104</td>\n",
       "      <td>62912</td>\n",
       "      <td>34576</td>\n",
       "      <td>840</td>\n",
       "      <td>2312</td>\n",
       "      <td>68848</td>\n",
       "      <td>137216</td>\n",
       "      <td>89952</td>\n",
       "      <td>3624</td>\n",
       "      <td>132512</td>\n",
       "      <td>608</td>\n",
       "      <td>112</td>\n",
       "      <td>752</td>\n",
       "    </tr>\n",
       "  </tbody>\n",
       "</table>\n",
       "</div>"
      ],
      "text/plain": [
       "                             _id   price bedrooms bathrooms sqft_living  \\\n",
       "count                     138320  138320   138320    138320      138320   \n",
       "unique                    138320    3534       13        30         947   \n",
       "top     62e0a12d4da9db1f09a268de     350        3       2.5        1800   \n",
       "freq                           1    1104    62912     34576         840   \n",
       "\n",
       "       sqft_lot  floors waterfront condition yr_built yr_renovated  zipcode  \\\n",
       "count    138320  138320     138320    138320   138320       138320   138320   \n",
       "unique     8428       6          2         5      116           69     3531   \n",
       "top        5000       1          0         3     2014            0  N9A 6J3   \n",
       "freq       2312   68848     137216     89952     3624       132512      608   \n",
       "\n",
       "            lat    long  \n",
       "count    138320  138320  \n",
       "unique     4837     733  \n",
       "top     47.6821  -122.3  \n",
       "freq        112     752  "
      ]
     },
     "execution_count": 144,
     "metadata": {},
     "output_type": "execute_result"
    }
   ],
   "source": [
    "df.describe()"
   ]
  }
 ],
 "metadata": {
  "kernelspec": {
   "display_name": "Python 3 (ipykernel)",
   "language": "python",
   "name": "python3"
  },
  "language_info": {
   "codemirror_mode": {
    "name": "ipython",
    "version": 3
   },
   "file_extension": ".py",
   "mimetype": "text/x-python",
   "name": "python",
   "nbconvert_exporter": "python",
   "pygments_lexer": "ipython3",
   "version": "3.9.12"
  },
  "vscode": {
   "interpreter": {
    "hash": "5a90729ae71814211996906198ceb6b77dd1c2563776e9a662446cadec601fdf"
   }
  }
 },
 "nbformat": 4,
 "nbformat_minor": 5
}
